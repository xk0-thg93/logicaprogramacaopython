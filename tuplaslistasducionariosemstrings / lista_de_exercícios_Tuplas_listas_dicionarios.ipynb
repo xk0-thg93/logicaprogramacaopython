{
  "nbformat": 4,
  "nbformat_minor": 0,
  "metadata": {
    "colab": {
      "provenance": [],
      "include_colab_link": true
    },
    "kernelspec": {
      "name": "python3",
      "display_name": "Python 3"
    },
    "language_info": {
      "name": "python"
    }
  },
  "cells": [
    {
      "cell_type": "markdown",
      "metadata": {
        "id": "view-in-github",
        "colab_type": "text"
      },
      "source": [
        "<a href=\"https://colab.research.google.com/github/xk0-thg93/logicaprogramacaopython/blob/main/tuplaslistasducionariosemstrings%20/%20lista_de_exerc%C3%ADcios_Tuplas_listas_dicionarios.ipynb\" target=\"_parent\"><img src=\"https://colab.research.google.com/assets/colab-badge.svg\" alt=\"Open In Colab\"/></a>"
      ]
    },
    {
      "cell_type": "markdown",
      "source": [
        "# **Exercícios utilizando Listas Python**"
      ],
      "metadata": {
        "id": "Fv1r44TLwVKM"
      }
    },
    {
      "cell_type": "markdown",
      "source": [
        "## 1. Soma dos Elementos da Lista\n",
        "Dada uma lista de números, calcule a soma de todos os elementos."
      ],
      "metadata": {
        "id": "b9nEDJF0wjrc"
      }
    },
    {
      "cell_type": "code",
      "execution_count": null,
      "metadata": {
        "id": "woHYcqQCwA-u",
        "colab": {
          "base_uri": "https://localhost:8080/"
        },
        "outputId": "71b90ca9-aaca-43ba-8818-0fb0fe68da8a"
      },
      "outputs": [
        {
          "output_type": "stream",
          "name": "stdout",
          "text": [
            "15\n"
          ]
        }
      ],
      "source": [
        "# Seu código aqui...\n",
        "lista = [1, 2, 3, 4, 5]\n",
        "soma = sum(lista)\n",
        "print(soma)\n"
      ]
    },
    {
      "cell_type": "markdown",
      "source": [
        "## 2. Produto dos elementos da lista\n",
        "Dada uma lista de números, calcule o produto de todos os elementos."
      ],
      "metadata": {
        "id": "jRKcmWKiw0z8"
      }
    },
    {
      "cell_type": "code",
      "source": [
        "# Seu código aqui...\n",
        "lista2 = [1, 2, 3, 4, 5]\n",
        "produto = 1\n",
        "for i in lista:\n",
        "\n",
        "  produto = produto * (lista[i-1])\n",
        "\n",
        "print(produto)"
      ],
      "metadata": {
        "id": "fLbEGjowwaZe",
        "colab": {
          "base_uri": "https://localhost:8080/"
        },
        "outputId": "6ba8881f-2760-4417-ff5f-0175a15bc6b2"
      },
      "execution_count": null,
      "outputs": [
        {
          "output_type": "stream",
          "name": "stdout",
          "text": [
            "120\n"
          ]
        }
      ]
    },
    {
      "cell_type": "markdown",
      "source": [
        "## 3. Encontre o menor elemento\n",
        "Dada uma lista de números, encontre o menor elemento."
      ],
      "metadata": {
        "id": "-Er6OsAyxFQj"
      }
    },
    {
      "cell_type": "code",
      "source": [
        "# Seu código aqui...\n",
        "lista3 = [1, 2, 3, 4, 5]\n",
        "print(min(lista3))"
      ],
      "metadata": {
        "id": "KVoiJ_u0xKvc",
        "colab": {
          "base_uri": "https://localhost:8080/"
        },
        "outputId": "98276b3b-eb57-48aa-cb27-7fe97afd5db1"
      },
      "execution_count": null,
      "outputs": [
        {
          "output_type": "stream",
          "name": "stdout",
          "text": [
            "1\n"
          ]
        }
      ]
    },
    {
      "cell_type": "markdown",
      "source": [
        "## 4. Encontre o maior elemento\n",
        "Dada uma lista de números, encontre o maior elemento."
      ],
      "metadata": {
        "id": "WXYaMI7FxQXk"
      }
    },
    {
      "cell_type": "code",
      "source": [
        "# Seu código aqui...\n",
        "lista4 = [1, 2, 3, 4, 5]\n",
        "print(max(lista4))"
      ],
      "metadata": {
        "id": "DoNhSLyuxb19",
        "colab": {
          "base_uri": "https://localhost:8080/"
        },
        "outputId": "1db039af-8c4b-4d08-ab1a-c4750520a8f0"
      },
      "execution_count": null,
      "outputs": [
        {
          "output_type": "stream",
          "name": "stdout",
          "text": [
            "5\n"
          ]
        }
      ]
    },
    {
      "cell_type": "markdown",
      "source": [
        "## 5. Contar Ocorrências de um Elemento\n",
        "Dada uma lista de números e um número alvo, conte quantas vezes o alvo aparece na lista."
      ],
      "metadata": {
        "id": "BkHVHCiPxgTs"
      }
    },
    {
      "cell_type": "code",
      "source": [
        "# Seu código aqui...\n",
        "lista5 = [1, 2, 3, 4, 3, 2, 1]\n",
        "print(lista5.count(1))"
      ],
      "metadata": {
        "id": "Hreq56gixmYC",
        "colab": {
          "base_uri": "https://localhost:8080/"
        },
        "outputId": "a51121fa-6c14-4f41-c332-d78e76a374c3"
      },
      "execution_count": null,
      "outputs": [
        {
          "output_type": "stream",
          "name": "stdout",
          "text": [
            "2\n"
          ]
        }
      ]
    },
    {
      "cell_type": "markdown",
      "source": [
        "## 6. Remover duplicatas\n",
        "Dada uma lista de números, crie uma nova lista sem elementos duplicados."
      ],
      "metadata": {
        "id": "zSsy12F-xrVT"
      }
    },
    {
      "cell_type": "code",
      "source": [
        "# Seu código aqui...\n",
        "lista6 = [1, 2, 2, 3, 4, 4, 5]\n",
        "for i in lista6:\n",
        "  if lista6.count(i) > 1:\n",
        "    lista6.remove(i)\n",
        "\n",
        "print(lista6)\n"
      ],
      "metadata": {
        "id": "9N35r8abxydM",
        "colab": {
          "base_uri": "https://localhost:8080/"
        },
        "outputId": "7eee3c50-0b03-411f-cf1a-04d27ad88549"
      },
      "execution_count": null,
      "outputs": [
        {
          "output_type": "stream",
          "name": "stdout",
          "text": [
            "[1, 2, 3, 4, 5]\n"
          ]
        }
      ]
    },
    {
      "cell_type": "markdown",
      "source": [
        "## 7. Inverter uma lista\n",
        "Dada uma lista de números, inverta a ordem dos elementos."
      ],
      "metadata": {
        "id": "Ev1YAUF9x3o8"
      }
    },
    {
      "cell_type": "code",
      "source": [
        "# Seu código aqui...\n",
        "lista6 = [1, 2, 3, 4, 5]\n",
        "print(lista6[::-1])"
      ],
      "metadata": {
        "id": "X8YLy9uqx9kz",
        "colab": {
          "base_uri": "https://localhost:8080/"
        },
        "outputId": "00186103-0f01-468b-dd88-ae02e3505aad"
      },
      "execution_count": null,
      "outputs": [
        {
          "output_type": "stream",
          "name": "stdout",
          "text": [
            "[5, 4, 3, 2, 1]\n"
          ]
        }
      ]
    },
    {
      "cell_type": "markdown",
      "source": [
        "## 8. Intercalar Duas Listas\n",
        "Dadas duas listas de números, crie uma nova lista intercalando os elementos das duas listas."
      ],
      "metadata": {
        "id": "1k2bPDTPyB-L"
      }
    },
    {
      "cell_type": "code",
      "source": [
        "# Seu código aqui...\n",
        "lista81 = [1, 3, 5]\n",
        "lista82 = [2, 4, 6]\n",
        "listanova4 = []\n",
        "aaaa = []\n",
        "for i in range (0,len(lista81)):\n",
        "  listanova4.append(lista81[i])\n",
        "  listanova4.append(lista82[i])\n",
        "  #print(lista81[i])\n",
        "  #print(lista82[i])\n",
        "  print(listanova4)"
      ],
      "metadata": {
        "id": "TXajIrGxyH3j",
        "colab": {
          "base_uri": "https://localhost:8080/"
        },
        "outputId": "f1540160-9fa1-4a57-f31e-747cd8b1c1e0"
      },
      "execution_count": null,
      "outputs": [
        {
          "output_type": "stream",
          "name": "stdout",
          "text": [
            "[1, 2]\n",
            "[1, 2, 3, 4]\n",
            "[1, 2, 3, 4, 5, 6]\n"
          ]
        }
      ]
    },
    {
      "cell_type": "markdown",
      "source": [
        "## 9. Somar Elementos Correspondentes de Duas Listas\n",
        "Dadas duas listas de números de mesmo tamanho, crie uma nova lista com a soma dos elementos correspondentes."
      ],
      "metadata": {
        "id": "ewiPtV9MyP1q"
      }
    },
    {
      "cell_type": "code",
      "source": [
        "# Seu código aqui...\n",
        "lista91 = [1, 2, 3]\n",
        "lista92 = [4, 5, 6]\n",
        "contador = []\n",
        "listanova6 = []\n",
        "\n",
        "for i in range(0,len(lista91)):\n",
        "  contador = lista92[i] + lista91[i]\n",
        "  listanova6.append(contador)\n",
        "\n",
        "\n",
        "print(listanova6)"
      ],
      "metadata": {
        "id": "0-4qe89uyVWT",
        "colab": {
          "base_uri": "https://localhost:8080/"
        },
        "outputId": "c7f31db8-4a91-42e7-babf-9624968336d6"
      },
      "execution_count": null,
      "outputs": [
        {
          "output_type": "stream",
          "name": "stdout",
          "text": [
            "[5, 7, 9]\n"
          ]
        }
      ]
    },
    {
      "cell_type": "markdown",
      "source": [
        "## 10. Mover Zeros para o Fim\n",
        "Dada uma lista de números, mova todos os zeros para o final da lista."
      ],
      "metadata": {
        "id": "QX-QkQg5ybQa"
      }
    },
    {
      "cell_type": "code",
      "source": [
        "# Seu código aqui...\n",
        "lista10 = [0, 1, 0, 3, 12]\n",
        "for i in lista10:\n",
        "  if i == 0:\n",
        "    lista10.remove(i)\n",
        "    lista10.append(0)\n",
        "\n",
        "print(lista10)"
      ],
      "metadata": {
        "id": "i8jHZT30ygD6",
        "colab": {
          "base_uri": "https://localhost:8080/"
        },
        "outputId": "3ca8a183-21b9-4298-ad58-72323da5f43d"
      },
      "execution_count": null,
      "outputs": [
        {
          "output_type": "stream",
          "name": "stdout",
          "text": [
            "[1, 3, 12, 0, 0]\n"
          ]
        }
      ]
    }
  ]
}