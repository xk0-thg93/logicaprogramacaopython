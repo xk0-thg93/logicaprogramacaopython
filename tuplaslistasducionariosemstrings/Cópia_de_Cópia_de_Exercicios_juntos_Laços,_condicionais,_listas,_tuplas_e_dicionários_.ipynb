{
  "nbformat": 4,
  "nbformat_minor": 0,
  "metadata": {
    "colab": {
      "provenance": [],
      "include_colab_link": true
    },
    "kernelspec": {
      "name": "python3",
      "display_name": "Python 3"
    },
    "language_info": {
      "name": "python"
    }
  },
  "cells": [
    {
      "cell_type": "markdown",
      "metadata": {
        "id": "view-in-github",
        "colab_type": "text"
      },
      "source": [
        "<a href=\"https://colab.research.google.com/github/xk0-thg93/logicaprogramacaopython/blob/main/tuplaslistasducionariosemstrings/C%C3%B3pia_de_C%C3%B3pia_de_Exercicios_juntos_La%C3%A7os%2C_condicionais%2C_listas%2C_tuplas_e_dicion%C3%A1rios_.ipynb\" target=\"_parent\"><img src=\"https://colab.research.google.com/assets/colab-badge.svg\" alt=\"Open In Colab\"/></a>"
      ]
    },
    {
      "cell_type": "markdown",
      "source": [
        "Lista de Exercícios unindo tudo que foi ensinado até o momento:\n",
        "\n",
        "\n",
        "*   Condicionais\n",
        "*   Laços de Reptição\n",
        "*   Listas\n",
        "*   Tuplas\n",
        "*   Dicionários\n",
        "*   Manipulação de Strings\n",
        "\n",
        "\n",
        "\n",
        "\n",
        "\n"
      ],
      "metadata": {
        "id": "JsFcwNObBRcd"
      }
    },
    {
      "cell_type": "markdown",
      "source": [
        "# Tuplas - Acesso e Desempacotamento\n",
        "\n",
        "1) Crie uma tupla contendo três tipos diferentes de dados: um número, uma string e uma lista. Use um laço de repetição para acessar e imprimir cada item da tupla. Além disso, dentro do laço, acesse e imprima o segundo item da lista que está dentro da tupla."
      ],
      "metadata": {
        "id": "HM91bKpkBqGI"
      }
    },
    {
      "cell_type": "code",
      "source": [
        "dados = (42, \"João\", [10, 20, 30])\n",
        "\n",
        "for item in dados:\n",
        "    print(item)\n",
        "    if isinstance(item, list):\n",
        "        print(item[1])"
      ],
      "metadata": {
        "colab": {
          "base_uri": "https://localhost:8080/"
        },
        "id": "sCbCOqPVYeRv",
        "outputId": "70704857-b41d-4cc8-80ff-7568797de0a8"
      },
      "execution_count": 1,
      "outputs": [
        {
          "output_type": "stream",
          "name": "stdout",
          "text": [
            "42\n",
            "João\n",
            "[10, 20, 30]\n",
            "20\n"
          ]
        }
      ]
    },
    {
      "cell_type": "markdown",
      "source": [
        "# Dicionários - Criação e Acesso\n",
        "## Cadastro de Pessoas e Análise de Alturas\n",
        "2) Solicite ao usuário para inserir o nome e a altura de várias pessoas. Preencha um dicionário com essas informações e depois encontre e imprima o nome e a altura da pessoa mais alta e da mais baixa."
      ],
      "metadata": {
        "id": "6vEHxGtjBxMi"
      }
    },
    {
      "cell_type": "code",
      "source": [
        "alt = {}\n",
        "\n",
        "for _ in range(5):\n",
        "    nome = input('Digite o nome: ')\n",
        "    alt[nome] = float(input('Digite a altura (em cm): '))\n",
        "\n",
        "maior = max(alt, key=alt.get)\n",
        "menor = min(alt, key=alt.get)\n",
        "\n",
        "print(f'A pessoa mais alta é {maior} com {alt[maior]} cm.')\n",
        "print(f'A pessoa mais baixa é {menor} com {alt[menor]} cm.')"
      ],
      "metadata": {
        "id": "MpJYauvTZR69"
      },
      "execution_count": null,
      "outputs": []
    },
    {
      "cell_type": "markdown",
      "source": [
        "# Lista, laços e Condicionais\n",
        "3) Descrição: Crie uma listacom cinco números inteiros. Use um laço de repetição e uma condicional para imprimir apenas os números que são múltiplos de 3."
      ],
      "metadata": {
        "id": "FytD4QZyELAt"
      }
    },
    {
      "cell_type": "code",
      "source": [
        "num = [8, 15, 3, 22, 9]\n",
        "\n",
        "for num3 in num:\n",
        "    if num3 % 3 == 0:\n",
        "        print(num3)\n"
      ],
      "metadata": {
        "colab": {
          "base_uri": "https://localhost:8080/"
        },
        "id": "dIhR_nc7hjU5",
        "outputId": "3db6e4a1-3e21-4b57-c179-8402583541c1"
      },
      "execution_count": 3,
      "outputs": [
        {
          "output_type": "stream",
          "name": "stdout",
          "text": [
            "15\n",
            "3\n",
            "9\n"
          ]
        }
      ]
    },
    {
      "cell_type": "markdown",
      "source": [
        "# Manipulação de Strings e Condicionais\n",
        "4) Descrição: Crie uma string com uma frase. Use uma condicional para verificar se a frase contém a palavra \"Python\". Se sim, substitua a palavra \"Python\" por \"programação\" e imprima a nova frase."
      ],
      "metadata": {
        "id": "hwn3Fz8aEYSH"
      }
    },
    {
      "cell_type": "code",
      "source": [
        "fra = str(input(\"Escreva uma frase: \"))\n",
        "if \"Python\" in fra:\n",
        "    fra = fra.replace(\"Python\", \"programação\")\n",
        "print(fra)"
      ],
      "metadata": {
        "colab": {
          "base_uri": "https://localhost:8080/"
        },
        "id": "ZxTV07Crj0EW",
        "outputId": "cd0d84ce-baf8-4629-89f8-db8faef03883"
      },
      "execution_count": 4,
      "outputs": [
        {
          "output_type": "stream",
          "name": "stdout",
          "text": [
            "Escreva uma frase: Estou aprendendo Python\n",
            "Estou aprendendo programação\n"
          ]
        }
      ]
    },
    {
      "cell_type": "markdown",
      "source": [
        "# Simulação de Alfândega com Cadastro Dinâmico de Itens usando dicionário\n",
        "5) Simule uma situação de alfândega onde o funcionário cadastra itens novos encontrados na mala de uma pessoa que veio de uma viagem internacional. Após o cadastro de todos os itens, o programa imprime uma nota com todos os itens e seus preços, calcula o valor total e, se o valor total ultrapassar 500 dólares, calcula o valor de 60% a ser pago."
      ],
      "metadata": {
        "id": "hPP-JNTxEwFT"
      }
    },
    {
      "cell_type": "code",
      "source": [
        "itens = {}\n",
        "soma = 0\n",
        "cont = \"SIM\"\n",
        "\n",
        "while cont == \"SIM\":\n",
        "  item = input('Digite o nome do item: ')\n",
        "  valor = float(input('Digite o valor do item em dólares: '))\n",
        "  itens[item] = valor\n",
        "  soma += valor\n",
        "  cont = str(input(\"Deseja adicionar mais produtos?: \")).upper()\n",
        "\n",
        "print('\\nNota Fiscal:')\n",
        "print('-------------------')\n",
        "for item in itens:\n",
        "    print(f'{item}: ${itens[item]:.2f}')\n",
        "\n",
        "print('-------------------')\n",
        "print(f'Valor total: ${soma:.2f}')\n",
        "\n",
        "if soma > 500:\n",
        "    taxa = soma * 0.60\n",
        "    print(f'Valor a ser pago (60%): ${taxa:.2f}')\n"
      ],
      "metadata": {
        "colab": {
          "base_uri": "https://localhost:8080/"
        },
        "id": "8ok5Dc_qnK5M",
        "outputId": "0856a72c-37fe-41e7-c38f-09a351646dbc"
      },
      "execution_count": 10,
      "outputs": [
        {
          "output_type": "stream",
          "name": "stdout",
          "text": [
            "Digite o nome do item: Playstation\n",
            "Digite o valor do item em dólares: 599\n",
            "Deseja adicionar mais produtos?: nn\n",
            "\n",
            "Nota Fiscal:\n",
            "-------------------\n",
            "Playstation: $599.00\n",
            "-------------------\n",
            "Valor total: $599.00\n",
            "Valor a ser pago (60%): $359.40\n"
          ]
        }
      ]
    },
    {
      "cell_type": "markdown",
      "source": [
        "# Identificação de Palavras Negativas em um Texto\n",
        "6) Você vai criar um programa em Python para analisar um texto e identificar palavras que expressam pensamentos negativos. Para isso, você usará uma lista de palavras negativas fornecida e verificará quais dessas palavras estão presentes no texto fornecido pelo usuário. Exemplo de palavras negtivas, acrescente mais na lista: # Lista de palavras negativas palavras_negativas = ['triste', 'deprimido', 'ansioso', 'desapontado', 'frustrado']"
      ],
      "metadata": {
        "id": "OH8D047zVsp-"
      }
    },
    {
      "cell_type": "code",
      "source": [
        "palavras_negativas = ['triste', 'deprimido', 'ansioso', 'desapontado', 'frustrado', 'cabisbaixo', 'infeliz', 'ansioso', 'desesperador']\n",
        "\n",
        "txt = str(input(\"Como se sente?: \"))\n",
        "for i in palavras_negativas:\n",
        "  if txt.count(i) > 0:\n",
        "    mal = True\n",
        "if mal == True:\n",
        "   print('Se aclame, você não está se sentidno bem, tente desabafar com alguém que você goste ou que seja próximo. Nunca guarde esse rancor dentro de você. Recomendo ir em um pciquiatra, todos devemos.')"
      ],
      "metadata": {
        "id": "xDSrYWf_Vr8G",
        "colab": {
          "base_uri": "https://localhost:8080/"
        },
        "outputId": "484953b3-7856-438b-a6f4-1126063f1665"
      },
      "execution_count": 16,
      "outputs": [
        {
          "output_type": "stream",
          "name": "stdout",
          "text": [
            "Como se sente?: Me sinto triste\n",
            "Se aclame, você não está se sentidno bem, tente desabafar com alguém que você goste ou que seja próximo. Nunca guarde esse rancor dentro de você. Recomendo ir em um pciquiatra, todos devemos.\n"
          ]
        }
      ]
    }
  ]
}