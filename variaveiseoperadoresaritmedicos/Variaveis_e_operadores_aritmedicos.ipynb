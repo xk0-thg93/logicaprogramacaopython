{
  "nbformat": 4,
  "nbformat_minor": 0,
  "metadata": {
    "colab": {
      "provenance": [],
      "authorship_tag": "ABX9TyNrmhzVGUWIxLI47WMcpEMC",
      "include_colab_link": true
    },
    "kernelspec": {
      "name": "python3",
      "display_name": "Python 3"
    },
    "language_info": {
      "name": "python"
    }
  },
  "cells": [
    {
      "cell_type": "markdown",
      "metadata": {
        "id": "view-in-github",
        "colab_type": "text"
      },
      "source": [
        "<a href=\"https://colab.research.google.com/github/xk0-thg93/logicaprogramacaopython/blob/main/variaveiseoperadoresaritmedicos/Variaveis_e_operadores_aritmedicos.ipynb\" target=\"_parent\"><img src=\"https://colab.research.google.com/assets/colab-badge.svg\" alt=\"Open In Colab\"/></a>"
      ]
    },
    {
      "cell_type": "markdown",
      "source": [
        "#criando variaveis"
      ],
      "metadata": {
        "id": "ULQYwiTGBex4"
      }
    },
    {
      "cell_type": "markdown",
      "source": [
        "###Área do quadrado"
      ],
      "metadata": {
        "id": "iInQ-YAgKTvT"
      }
    },
    {
      "cell_type": "code",
      "execution_count": null,
      "metadata": {
        "colab": {
          "base_uri": "https://localhost:8080/"
        },
        "id": "QBx7ygPcBVfk",
        "outputId": "d17f3586-aa00-4c8e-b5cd-afb2bf3f6335"
      },
      "outputs": [
        {
          "name": "stdout",
          "output_type": "stream",
          "text": [
            "Digite o lado do quadrado: 34\n"
          ]
        }
      ],
      "source": [
        "#ENTREADA\n",
        "l = float(input(\"Digite o lado do quadrado: \"))"
      ]
    },
    {
      "cell_type": "code",
      "source": [
        "#processamneto"
      ],
      "metadata": {
        "id": "DI-R96j1E2xb"
      },
      "execution_count": null,
      "outputs": []
    },
    {
      "cell_type": "code",
      "source": [
        "a = l*l"
      ],
      "metadata": {
        "id": "PY3TMtMGE5TQ"
      },
      "execution_count": null,
      "outputs": []
    },
    {
      "cell_type": "code",
      "source": [
        "#saida"
      ],
      "metadata": {
        "id": "ADkWL0rhE-pw"
      },
      "execution_count": null,
      "outputs": []
    },
    {
      "cell_type": "code",
      "source": [
        "print(\"A área do quadrado é:\", a)"
      ],
      "metadata": {
        "colab": {
          "base_uri": "https://localhost:8080/"
        },
        "id": "AZ6ME0etFAWo",
        "outputId": "55691eb1-fbf3-4cee-841f-cfdb12696aa9"
      },
      "execution_count": null,
      "outputs": [
        {
          "output_type": "stream",
          "name": "stdout",
          "text": [
            "A área do quadrado é: 1156.0\n"
          ]
        }
      ]
    },
    {
      "cell_type": "markdown",
      "source": [
        "###Área do restangulo"
      ],
      "metadata": {
        "id": "C0h9VAijJ6oz"
      }
    },
    {
      "cell_type": "code",
      "source": [
        "#entrada"
      ],
      "metadata": {
        "id": "p6vlmZpLJ_Hy"
      },
      "execution_count": null,
      "outputs": []
    },
    {
      "cell_type": "code",
      "source": [
        "base = float(input(\"digite a base do retangulo: \"))\n",
        "alt = float(input(\"escreva a altura do retangulo: \"))"
      ],
      "metadata": {
        "colab": {
          "base_uri": "https://localhost:8080/"
        },
        "id": "Ahs2b8fiKBSi",
        "outputId": "586c24b4-edee-4e0c-cb55-b32a01d2d82e"
      },
      "execution_count": null,
      "outputs": [
        {
          "name": "stdout",
          "output_type": "stream",
          "text": [
            "digite a base do retangulo: 4\n",
            "escreva a altura do retangulo: 6\n"
          ]
        }
      ]
    },
    {
      "cell_type": "code",
      "source": [
        "#processamento"
      ],
      "metadata": {
        "id": "aD2QTIocMDlC"
      },
      "execution_count": null,
      "outputs": []
    },
    {
      "cell_type": "code",
      "source": [
        "a = base*alt"
      ],
      "metadata": {
        "id": "oEiGNS0NMiOp"
      },
      "execution_count": null,
      "outputs": []
    },
    {
      "cell_type": "code",
      "source": [
        "#saida"
      ],
      "metadata": {
        "id": "txei8be_Mr-J"
      },
      "execution_count": null,
      "outputs": []
    },
    {
      "cell_type": "code",
      "source": [
        "print(\"A área do retango é: \", a)"
      ],
      "metadata": {
        "colab": {
          "base_uri": "https://localhost:8080/"
        },
        "id": "sp0YQkPdMxmx",
        "outputId": "a454dc8d-6861-471c-9fd3-d9a44a92488b"
      },
      "execution_count": null,
      "outputs": [
        {
          "output_type": "stream",
          "name": "stdout",
          "text": [
            "A área do retango é:  24.0\n"
          ]
        }
      ]
    },
    {
      "cell_type": "markdown",
      "source": [
        "###Área do triangulo"
      ],
      "metadata": {
        "id": "N8Zo6PvVNEIh"
      }
    },
    {
      "cell_type": "code",
      "source": [
        "#entrada\n",
        "base = float(input(\"Escreava a base do triangulo: \"))"
      ],
      "metadata": {
        "colab": {
          "base_uri": "https://localhost:8080/"
        },
        "id": "V9stpjThNSPr",
        "outputId": "a561ca98-a0b4-4c9f-d587-dd616f1f11c3"
      },
      "execution_count": null,
      "outputs": [
        {
          "name": "stdout",
          "output_type": "stream",
          "text": [
            "Escreava a base do triangulo: 7\n"
          ]
        }
      ]
    },
    {
      "cell_type": "code",
      "source": [
        "alt = float(input(\"Escreva a altura do triangulo: \"))\n"
      ],
      "metadata": {
        "colab": {
          "base_uri": "https://localhost:8080/"
        },
        "id": "rT7ZbJ25NTib",
        "outputId": "f31d055f-803d-483e-ff6a-1012980f2fa4"
      },
      "execution_count": null,
      "outputs": [
        {
          "name": "stdout",
          "output_type": "stream",
          "text": [
            "Escreva a altura do triangulo: 8\n"
          ]
        }
      ]
    },
    {
      "cell_type": "code",
      "source": [
        "#processamento\n",
        "a = base*alt/2"
      ],
      "metadata": {
        "id": "1sPy5FHDN5LC"
      },
      "execution_count": null,
      "outputs": []
    },
    {
      "cell_type": "code",
      "source": [
        "#saida\n",
        "print(\"A área do triangulo é: \", a)"
      ],
      "metadata": {
        "colab": {
          "base_uri": "https://localhost:8080/"
        },
        "id": "-QWF_QjbN96C",
        "outputId": "46430ec4-6cad-4d5a-da29-5397bafe2c77"
      },
      "execution_count": null,
      "outputs": [
        {
          "output_type": "stream",
          "name": "stdout",
          "text": [
            "A área do triangulo é:  28.0\n"
          ]
        }
      ]
    },
    {
      "cell_type": "markdown",
      "source": [
        "###Àrea do trapézio"
      ],
      "metadata": {
        "id": "DU0s-USBO5UT"
      }
    },
    {
      "cell_type": "code",
      "source": [
        "#entrada\n",
        "base1 =  float(input(\"Escrava medida de uma das bases do trapézio: \"))\n",
        "\n",
        "base2 = float(input(\"Escreva a medida da outra base do trapézio: \"))\n",
        "\n",
        "alt = float(input(\"Escreva a altura do trapézio: \"))"
      ],
      "metadata": {
        "colab": {
          "base_uri": "https://localhost:8080/"
        },
        "id": "ZZ41-0n4O9JL",
        "outputId": "13634396-9bdb-43af-ff70-76c58259a8f1"
      },
      "execution_count": null,
      "outputs": [
        {
          "name": "stdout",
          "output_type": "stream",
          "text": [
            "Escrava medida de uma das bases do trapézio: 7\n",
            "Escreva a medida da outra base do trapézio: 3\n",
            "Escreva a altura do trapézio: 2\n"
          ]
        }
      ]
    },
    {
      "cell_type": "code",
      "source": [
        "#processsamento\n",
        "a = (base1+base2)*alt/2"
      ],
      "metadata": {
        "id": "yEhPODZASCaF"
      },
      "execution_count": null,
      "outputs": []
    },
    {
      "cell_type": "code",
      "source": [
        "#saida\n",
        "print(\"A área do trapézio é: \", a)"
      ],
      "metadata": {
        "colab": {
          "base_uri": "https://localhost:8080/"
        },
        "id": "9oJea7IrSaIy",
        "outputId": "619ce38a-1d17-4c03-c150-8cfbd7a50af1"
      },
      "execution_count": null,
      "outputs": [
        {
          "output_type": "stream",
          "name": "stdout",
          "text": [
            "A área do trapézio é:  10.0\n"
          ]
        }
      ]
    },
    {
      "cell_type": "markdown",
      "source": [
        "###Azulejos na parede"
      ],
      "metadata": {
        "id": "Ynf3ZFdfTEUd"
      }
    },
    {
      "cell_type": "code",
      "source": [
        "#entrada(medidas)\n",
        "largp = float(input(\"Escreva a largura da parede em metros: \"))\n",
        "altp = float (input(\"Escrava a altura da parede em metros: \"))\n",
        "\n",
        "larga = float(input(\"Escrava a lagura do azulejo em centimetros: \"))\n",
        "alta = float(input(\"Escrava a altura do azulejo em centimetros: \"))"
      ],
      "metadata": {
        "colab": {
          "base_uri": "https://localhost:8080/"
        },
        "id": "0BhwT9idTLBf",
        "outputId": "55ccf094-539e-442a-fd87-2371ec19af82"
      },
      "execution_count": null,
      "outputs": [
        {
          "name": "stdout",
          "output_type": "stream",
          "text": [
            "Escreva a largura da parede em metros: 6\n",
            "Escrava a altura da parede em metros: 4\n",
            "Escrava a lagura do azulejo em centimetros: 3\n",
            "Escrava a altura do azulejo em centimetros: 4\n"
          ]
        }
      ]
    },
    {
      "cell_type": "code",
      "source": [
        "#PROCESSAMENTO\n",
        "#áreas\n",
        "ap = largp*altp\n",
        "aa = larga*alta\n",
        "\n",
        "#FINAL\n",
        "aam = aa/100\n",
        "qt = ap/aam"
      ],
      "metadata": {
        "id": "b_Xf5baqTUyr"
      },
      "execution_count": null,
      "outputs": []
    },
    {
      "cell_type": "code",
      "source": [
        "#saida\n",
        "print(\"A quantidade de azulejos que caibam na parede será:\", qt)"
      ],
      "metadata": {
        "colab": {
          "base_uri": "https://localhost:8080/"
        },
        "id": "VNFd6xc8Va72",
        "outputId": "53c29804-2d7f-48d0-b1a9-1767ea508bf0"
      },
      "execution_count": null,
      "outputs": [
        {
          "output_type": "stream",
          "name": "stdout",
          "text": [
            "A quantidade de azulejos que caibam na parede será: 200.0\n"
          ]
        }
      ]
    },
    {
      "cell_type": "markdown",
      "source": [
        "###Área do circulo"
      ],
      "metadata": {
        "id": "tJ8O7eIWcWtV"
      }
    },
    {
      "cell_type": "code",
      "source": [
        "#entrada\n",
        "raio = float(input(\"Digite o raio do circulo: \"))"
      ],
      "metadata": {
        "id": "zo5eGxF6cZHW",
        "colab": {
          "base_uri": "https://localhost:8080/"
        },
        "outputId": "449ece4b-dfd8-4517-d6f9-d07ddbe3818f"
      },
      "execution_count": null,
      "outputs": [
        {
          "name": "stdout",
          "output_type": "stream",
          "text": [
            "Digite o raio do circulo: 3\n"
          ]
        }
      ]
    },
    {
      "cell_type": "code",
      "source": [
        "#processamento\n",
        "a = raio*raio*3.1415926535897932384626433832795028841971693993751058209749445923078164062862089986280348253421170679821480865132823066470938446095505822317253594081284811174502841027019385211055596446229489549303819644288109756659334461"
      ],
      "metadata": {
        "id": "nhOQvpf4c3nf"
      },
      "execution_count": null,
      "outputs": []
    },
    {
      "cell_type": "code",
      "source": [
        "#saida\n",
        "print(\"A área do circulo é \", a)"
      ],
      "metadata": {
        "colab": {
          "base_uri": "https://localhost:8080/"
        },
        "id": "P57ZA1ujwGyn",
        "outputId": "2d8c0f42-0d9c-4f7d-d334-7bacec7cecdb"
      },
      "execution_count": null,
      "outputs": [
        {
          "output_type": "stream",
          "name": "stdout",
          "text": [
            "A área do circulo é  28.274333882308138\n"
          ]
        }
      ]
    },
    {
      "cell_type": "markdown",
      "source": [
        "###Calculo de notas"
      ],
      "metadata": {
        "id": "x1ivo0YYXJTk"
      }
    },
    {
      "cell_type": "code",
      "source": [
        "#entrada\n",
        "p1 = float(input(\"Escreva o valor da primeira nota: \"))\n",
        "p2 = float(input(\"Escreva o valor da segunda nota: \"))\n",
        "\n",
        "#processamento\n",
        "m = (p1+p2)/2\n",
        "\n",
        "#saida\n",
        "print(\"A média entre as duas notas é:\", m)"
      ],
      "metadata": {
        "colab": {
          "base_uri": "https://localhost:8080/"
        },
        "id": "k7afJiB8XYNc",
        "outputId": "89aa2444-0cbb-40d3-8734-de0178f0de72"
      },
      "execution_count": null,
      "outputs": [
        {
          "output_type": "stream",
          "name": "stdout",
          "text": [
            "Escreva o valor da primeira nota: 8\n",
            "Escreva o valor da segunda nota: 10\n",
            "A média entre as duas notas é: 9.0\n"
          ]
        }
      ]
    },
    {
      "cell_type": "code",
      "source": [],
      "metadata": {
        "id": "E0eKQX9LY5MF"
      },
      "execution_count": null,
      "outputs": []
    },
    {
      "cell_type": "markdown",
      "source": [
        "###Conversão de dinheiro"
      ],
      "metadata": {
        "id": "JKFsPnHEbUBW"
      }
    },
    {
      "cell_type": "code",
      "source": [
        "#entrada\n",
        "r = float(input(\"Digite o valor em reais que deseja converter: \"))\n",
        "d = float(input(\"Digite a contação do dolar no momento: \"))\n",
        "\n",
        "#processamento\n",
        "vc=r/d\n",
        "\n",
        "#saida\n",
        "print(\"Após a conversão, o valor será de: \", vc)"
      ],
      "metadata": {
        "colab": {
          "base_uri": "https://localhost:8080/"
        },
        "id": "g6FiSBCpbj3c",
        "outputId": "86e48b26-adf5-4af4-9f36-7e296a590874"
      },
      "execution_count": null,
      "outputs": [
        {
          "output_type": "stream",
          "name": "stdout",
          "text": [
            "Digite o valor em reais que deseja converter: 573\n",
            "Digite a contação do dolar no momento: 4.98\n",
            "Após a conversão, o valor será de:  115.0602409638554\n"
          ]
        }
      ]
    },
    {
      "cell_type": "markdown",
      "source": [
        "###Calculo de horas em percentuais,ganho por hora e hora extra"
      ],
      "metadata": {
        "id": "wPmfAGwIOtW8"
      }
    },
    {
      "cell_type": "code",
      "source": [
        "#entrada\n",
        "h = float(input(\"Digite somente as horas: \"))\n",
        "m = float(input(\"Digite somente os minutos: \"))"
      ],
      "metadata": {
        "colab": {
          "base_uri": "https://localhost:8080/"
        },
        "id": "WyCkBQPEPWbP",
        "outputId": "726bd9f0-7a9c-414d-c330-3468f0223000"
      },
      "execution_count": null,
      "outputs": [
        {
          "name": "stdout",
          "output_type": "stream",
          "text": [
            "Digite somente as horas: 15\n",
            "Digite somente os minutos: 45\n"
          ]
        }
      ]
    },
    {
      "cell_type": "code",
      "source": [
        "#processamento\n",
        "mt = m/60\n",
        "r = mt+h"
      ],
      "metadata": {
        "id": "5MlUnikPP9mf"
      },
      "execution_count": null,
      "outputs": []
    },
    {
      "cell_type": "code",
      "source": [
        "#saida\n",
        "print(\"As hora em perncentual é: \", r)"
      ],
      "metadata": {
        "colab": {
          "base_uri": "https://localhost:8080/"
        },
        "id": "EOIOAM7pRIcF",
        "outputId": "f65b2ec3-4118-440a-d08c-03f038bdc339"
      },
      "execution_count": null,
      "outputs": [
        {
          "output_type": "stream",
          "name": "stdout",
          "text": [
            "As hora em perncentual é:  15.75\n"
          ]
        }
      ]
    },
    {
      "cell_type": "code",
      "source": [
        "#entrada2\n",
        "vh = float(input(\"Deseja saber quanto ira receber trabalhando por esse tempo, e de uqbtra, você saberá o quanto ganhará de hora extra, aceita? Se sim, informe o quanto recebe por hora trabalhada: \"))"
      ],
      "metadata": {
        "colab": {
          "base_uri": "https://localhost:8080/"
        },
        "id": "z8urQC0lRWrj",
        "outputId": "3e9f7373-42e3-4b4f-c745-52a2f02c6f5f"
      },
      "execution_count": null,
      "outputs": [
        {
          "name": "stdout",
          "output_type": "stream",
          "text": [
            "Deseja saber quanto ira receber trabalhando por esse tempo, e de uqbtra, você saberá o quanto ganhará de hora extra, aceita? Se sim, informe o quanto recebe por hora trabalhada: 100\n"
          ]
        }
      ]
    },
    {
      "cell_type": "code",
      "source": [
        "#processamento2\n",
        "s = (r*vh)\n",
        "sx = ((s*70)/100)+s"
      ],
      "metadata": {
        "id": "Ox8fdByaSuYH"
      },
      "execution_count": null,
      "outputs": []
    },
    {
      "cell_type": "code",
      "source": [
        "#saida\n",
        "print(\"O seu salario será de: \",s)\n",
        "print(\"O seu salario mais o ganho da hora extra será: \", sx)"
      ],
      "metadata": {
        "colab": {
          "base_uri": "https://localhost:8080/"
        },
        "id": "thtdWy7MWw8H",
        "outputId": "5cd2b4b7-5d45-454b-d9c5-b475dd51a23f"
      },
      "execution_count": null,
      "outputs": [
        {
          "output_type": "stream",
          "name": "stdout",
          "text": [
            "O seu salario será de:  1575.0\n",
            "O seu salario mais o ganho da hora extra será:  2677.5\n"
          ]
        }
      ]
    },
    {
      "cell_type": "markdown",
      "source": [
        "###Calculo de Área e soma de multiplos números(4 números)"
      ],
      "metadata": {
        "id": "yGG_FgE7gDU1"
      }
    },
    {
      "cell_type": "code",
      "source": [
        "#ENTRADA\n",
        "a = float(input(\"Digite o primeiro número: \"))\n",
        "b = float(input(\"Digite o segundo número: \"))\n",
        "c = float(input(\"Digite o terceiro número: \"))\n",
        "d = float(input(\"Digite o quarto número: \"))\n",
        "\n",
        "#processameneto\n",
        "al = a*a\n",
        "bl = b*b\n",
        "cl = c*c\n",
        "dl = d*d\n",
        "rf = al+bl+cl+dl\n",
        "\n",
        "#saia\n",
        "print(\"O resultado do lado do primeiro número é: \", rf)"
      ],
      "metadata": {
        "id": "nw3YVRqbgqBd",
        "colab": {
          "base_uri": "https://localhost:8080/"
        },
        "outputId": "ff268ff1-6988-44ab-c531-484fae197a90"
      },
      "execution_count": null,
      "outputs": [
        {
          "output_type": "stream",
          "name": "stdout",
          "text": [
            "Digite o primeiro número: 2\n",
            "Digite o segundo número: 3\n",
            "Digite o terceiro número: 4\n",
            "Digite o quarto número: 5\n",
            "O resultado do lado do primeiro número é:  54.0\n"
          ]
        }
      ]
    },
    {
      "cell_type": "markdown",
      "source": [
        "###Calculo de comissão"
      ],
      "metadata": {
        "id": "dS6hWg46wxc8"
      }
    },
    {
      "cell_type": "code",
      "source": [
        "#entrada\n",
        "t = float(input(\"Escreva o total de peças vendidas: \"))\n",
        "v = float(input(\"Escreva o preço unitário da peça: \"))\n",
        "\n",
        "#processamento\n",
        "vt = t*v\n",
        "c = 0.05*vt\n",
        "cvt = vt+c\n",
        "#saida\n",
        "print(\"O valor total das peças foi de:\", vt)\n",
        "print(\"A comissão será de:\", c)\n",
        "print(\"O valor da comissão mas o valor total de todas as peças vendidas será de: \", cvt)"
      ],
      "metadata": {
        "colab": {
          "base_uri": "https://localhost:8080/"
        },
        "id": "FX98hT5lxOzU",
        "outputId": "1ac9669b-24a7-4789-ec56-ab59077d3b90"
      },
      "execution_count": null,
      "outputs": [
        {
          "output_type": "stream",
          "name": "stdout",
          "text": [
            "Escreva o total de peças vendidas: 125\n",
            "Escreva o preço unitário da peça: 35\n",
            "O valor total das peças foi de: 4375.0\n",
            "A comissão será de: 218.75\n",
            "O valor da comissão mas o valor total de todas as peças vendidas será de:  4593.75\n"
          ]
        }
      ]
    },
    {
      "cell_type": "markdown",
      "source": [
        "###Custo do carro"
      ],
      "metadata": {
        "id": "mde9muDi1RLo"
      }
    },
    {
      "cell_type": "code",
      "source": [
        "\n",
        "#entrada\n",
        "cf = float(input(\"Digite  valor de fábrica do carro: \"))\n",
        "\n",
        "#processamento\n",
        "i = (45/100)*cf\n",
        "cfi = cf+i\n",
        "d = (28/100)*cfi\n",
        "vpc = cf+i+d\n",
        "\n",
        "#saida\n",
        "print(\"Valor do imposto: \", i)\n",
        "print(\"VAlor da distribuição: \", d)\n",
        "print(\"O valor que estará disponível para o consumidor será de: \", vpc)"
      ],
      "metadata": {
        "colab": {
          "base_uri": "https://localhost:8080/"
        },
        "id": "KLvtOoUe1VKH",
        "outputId": "8d3c54a8-a07d-4267-ccde-5d17194a11dd"
      },
      "execution_count": null,
      "outputs": [
        {
          "output_type": "stream",
          "name": "stdout",
          "text": [
            "Digite  valor de fábrica do carro: 89500\n",
            "Valor do imposto:  40275.0\n",
            "VAlor da distribuição:  36337.0\n",
            "O valor que estará disponível para o consumidor será de:  166112.0\n"
          ]
        }
      ]
    },
    {
      "cell_type": "markdown",
      "source": [
        "###Gasto de combustível"
      ],
      "metadata": {
        "id": "UF96Gxfg4nW_"
      }
    },
    {
      "cell_type": "code",
      "source": [
        "kp = float(input(\"Digite quantos kilômetros serão percorridos: \"))\n",
        "cpk = float(input(\"Digite quantos kilômetros o seu carro faz com 1 litro de gasolina: \"))\n",
        "cm = float(input(\"Digite o preço médio de gasolina (em reais): \"))\n",
        "perc = kp/cpk\n",
        "gast = perc*cm\n",
        "iv = gast*2\n",
        "print(\"O seu carro consumirá: \", perc)\n",
        "print(\"O preço será de\", gast)\n",
        "print(\"O gasto de ida e volta será de: \", iv)"
      ],
      "metadata": {
        "colab": {
          "base_uri": "https://localhost:8080/"
        },
        "id": "jds4sRsd5F9e",
        "outputId": "1da86a99-15c9-495c-c61d-c7ac9af41984"
      },
      "execution_count": null,
      "outputs": [
        {
          "output_type": "stream",
          "name": "stdout",
          "text": [
            "Digite quantos kilômetros serão percorridos: 1300\n",
            "Digite quantos kilômetros o seu carro faz com 1 litro de gasolina: 14\n",
            "Digite o preço médio de gasolina (em reais): 5.58\n",
            "O seu carro consumirá:  92.85714285714286\n",
            "O preço será de 518.1428571428572\n",
            "O gato de ida e volta será de:  1036.2857142857144\n"
          ]
        }
      ]
    },
    {
      "cell_type": "markdown",
      "source": [
        "###Calculo de velocidade média de um carro\n",
        "\n",
        "\n"
      ],
      "metadata": {
        "id": "yacF41m27rv9"
      }
    },
    {
      "cell_type": "code",
      "source": [
        "pp = float(input(\"Digite a distância percorrida: \"))\n",
        "tth = float(input(\"Digite o tempo gasto para complear o percurso (somente as horas): \"))\n",
        "ttm = float(input(\"Digite o tempo gasto para complear o percurso (somente os minutos): \"))\n",
        "ttmc = ttm/60\n",
        "tt = ttmc+tth\n",
        "vm = pp/tt\n",
        "print(\"O tempo foi de: \", tt)\n",
        "print(\"A velocidade média do carro foi de: \", vm)"
      ],
      "metadata": {
        "colab": {
          "base_uri": "https://localhost:8080/"
        },
        "id": "sA_SzNPg72wt",
        "outputId": "4347b569-07cf-413b-e93a-d07697680ae2"
      },
      "execution_count": null,
      "outputs": [
        {
          "output_type": "stream",
          "name": "stdout",
          "text": [
            "Digite a distância percorrida: 457\n",
            "Digite o tempo gasto para complear o percurso (somente as horas): 1\n",
            "Digite o tempo gasto para complear o percurso (somente os minutos): 30\n",
            "O tempo foi de:  1.5\n",
            "A velocidade média do carro foi de:  304.6666666666667\n"
          ]
        }
      ]
    }
  ]
}